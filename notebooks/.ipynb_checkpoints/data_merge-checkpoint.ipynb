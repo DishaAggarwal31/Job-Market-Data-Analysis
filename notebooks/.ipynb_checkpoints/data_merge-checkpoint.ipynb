{
 "cells": [
  {
   "cell_type": "code",
   "execution_count": 1,
   "id": "92bbe0fb-f519-4d0c-b58e-5f24284728e3",
   "metadata": {},
   "outputs": [],
   "source": [
    "import pandas as pd"
   ]
  },
  {
   "cell_type": "code",
   "execution_count": 3,
   "id": "cbe7df59-f961-4fe8-bdee-4814335f1432",
   "metadata": {},
   "outputs": [],
   "source": [
    "file_path = '../data/cleaned/'\n",
    "\n",
    "talent_df = pd.read_csv(file_path+'cleaned_talent_df.csv')\n",
    "monster_df = pd.read_csv(file_path+'cleaned_monster_df.csv')\n",
    "naukri_df = pd.read_csv(file_path+'cleaned_naukri_df.csv')\n",
    "linkedln_df = pd.read_csv(file_path+'cleaned_linkedln_df.csv')"
   ]
  },
  {
   "cell_type": "code",
   "execution_count": 5,
   "id": "d3e4fb2f-f213-4d3e-aec7-0eb4567460a5",
   "metadata": {},
   "outputs": [
    {
     "data": {
      "text/html": [
       "<div>\n",
       "<style scoped>\n",
       "    .dataframe tbody tr th:only-of-type {\n",
       "        vertical-align: middle;\n",
       "    }\n",
       "\n",
       "    .dataframe tbody tr th {\n",
       "        vertical-align: top;\n",
       "    }\n",
       "\n",
       "    .dataframe thead th {\n",
       "        text-align: right;\n",
       "    }\n",
       "</style>\n",
       "<table border=\"1\" class=\"dataframe\">\n",
       "  <thead>\n",
       "    <tr style=\"text-align: right;\">\n",
       "      <th></th>\n",
       "      <th>Job Title</th>\n",
       "      <th>Company Name</th>\n",
       "      <th>Experience (In Years)</th>\n",
       "      <th>Experience Category</th>\n",
       "      <th>Industry</th>\n",
       "      <th>City</th>\n",
       "      <th>State</th>\n",
       "      <th>Country</th>\n",
       "      <th>Source</th>\n",
       "    </tr>\n",
       "  </thead>\n",
       "  <tbody>\n",
       "    <tr>\n",
       "      <th>0</th>\n",
       "      <td>Front-end Engineer/Web Developer (SDE 1 &amp;amp; 2)</td>\n",
       "      <td>BOX8</td>\n",
       "      <td>0.0</td>\n",
       "      <td>Entry</td>\n",
       "      <td>Web Development</td>\n",
       "      <td>Bengaluru</td>\n",
       "      <td>Karnataka</td>\n",
       "      <td>India</td>\n",
       "      <td>LinkedLn</td>\n",
       "    </tr>\n",
       "    <tr>\n",
       "      <th>1</th>\n",
       "      <td>Android Developer-SDE 1 &amp;amp; 2(Software Devel...</td>\n",
       "      <td>BOX8</td>\n",
       "      <td>0.0</td>\n",
       "      <td>Entry</td>\n",
       "      <td>Software Development</td>\n",
       "      <td>Bengaluru</td>\n",
       "      <td>Karnataka</td>\n",
       "      <td>India</td>\n",
       "      <td>LinkedLn</td>\n",
       "    </tr>\n",
       "  </tbody>\n",
       "</table>\n",
       "</div>"
      ],
      "text/plain": [
       "                                           Job Title Company Name  \\\n",
       "0   Front-end Engineer/Web Developer (SDE 1 &amp; 2)         BOX8   \n",
       "1  Android Developer-SDE 1 &amp; 2(Software Devel...         BOX8   \n",
       "\n",
       "   Experience (In Years) Experience Category              Industry       City  \\\n",
       "0                    0.0               Entry       Web Development  Bengaluru   \n",
       "1                    0.0               Entry  Software Development  Bengaluru   \n",
       "\n",
       "       State Country    Source  \n",
       "0  Karnataka   India  LinkedLn  \n",
       "1  Karnataka   India  LinkedLn  "
      ]
     },
     "execution_count": 5,
     "metadata": {},
     "output_type": "execute_result"
    }
   ],
   "source": [
    "linkedln_df.head(2)"
   ]
  },
  {
   "cell_type": "code",
   "execution_count": 6,
   "id": "e44edaba-5587-461a-8f96-23aebc9be8fa",
   "metadata": {},
   "outputs": [
    {
     "name": "stdout",
     "output_type": "stream",
     "text": [
      "Successfully merged 4 CSV files into 'merged_file.csv'\n"
     ]
    }
   ],
   "source": [
    "import pandas as pd\n",
    "import glob\n",
    "import os\n",
    "\n",
    "def merge_csv_files(directory, output_filename=\"merged_file.csv\"):\n",
    "    \"\"\"Merges all CSV files in a directory into a single CSV file.\n",
    "\n",
    "    Args:\n",
    "        directory (str): The path to the directory containing the CSV files.\n",
    "        output_filename (str, optional): The name of the output CSV file. \n",
    "                                         Defaults to \"merged_file.csv\".\n",
    "    \"\"\"\n",
    "    all_filenames = glob.glob(os.path.join(directory, \"*.csv\"))\n",
    "    all_df = []\n",
    "    for f in all_filenames:\n",
    "        df = pd.read_csv(f)\n",
    "        all_df.append(df)\n",
    "    merged_df = pd.concat(all_df, ignore_index=True)\n",
    "    merged_df.to_csv(output_filename, index=False)\n",
    "    print(f\"Successfully merged {len(all_filenames)} CSV files into '{output_filename}'\")\n",
    "\n",
    "# Example Usage:\n",
    "directory_path = '../data/cleaned/' # Replace with the actual path\n",
    "merge_csv_files(directory_path) # Merges all CSV files in the directory\n",
    "\n",
    "# You can also specify a custom output filename:\n",
    "# merge_csv_files(directory_path, \"combined_data.csv\")"
   ]
  },
  {
   "cell_type": "code",
   "execution_count": null,
   "id": "8cbde778-1e44-45cb-a50b-337bb6c3032d",
   "metadata": {},
   "outputs": [],
   "source": []
  }
 ],
 "metadata": {
  "kernelspec": {
   "display_name": "Python 3 (ipykernel)",
   "language": "python",
   "name": "python3"
  },
  "language_info": {
   "codemirror_mode": {
    "name": "ipython",
    "version": 3
   },
   "file_extension": ".py",
   "mimetype": "text/x-python",
   "name": "python",
   "nbconvert_exporter": "python",
   "pygments_lexer": "ipython3",
   "version": "3.12.0"
  }
 },
 "nbformat": 4,
 "nbformat_minor": 5
}
