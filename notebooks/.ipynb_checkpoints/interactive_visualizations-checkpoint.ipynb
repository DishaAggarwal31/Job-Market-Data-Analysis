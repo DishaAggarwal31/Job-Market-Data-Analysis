{
 "cells": [
  {
   "cell_type": "markdown",
   "id": "32a83e59-c4f7-4af9-a49f-8cf5a1e1299f",
   "metadata": {},
   "source": [
    "Imports"
   ]
  },
  {
   "cell_type": "code",
   "execution_count": 31,
   "id": "198db163-bb91-441b-9ddc-288338c842d3",
   "metadata": {},
   "outputs": [],
   "source": [
    "import warnings\n",
    "warnings.filterwarnings(\"ignore\", category=FutureWarning)\n",
    "\n",
    "import pandas as pd\n",
    "import matplotlib.pyplot as plt\n",
    "import seaborn as sns\n",
    "import ipywidgets as widgets\n",
    "from IPython.display import display\n",
    "\n",
    "sns.set(style=\"whitegrid\")\n",
    "plt.rcParams['figure.figsize'] = (10, 6)"
   ]
  },
  {
   "cell_type": "markdown",
   "id": "c5af5aa0-8d8e-4dbf-b070-4eda31b2e13f",
   "metadata": {},
   "source": [
    "Load the data from the merged jobs file"
   ]
  },
  {
   "cell_type": "code",
   "execution_count": 32,
   "id": "b41ae28c-6d44-4357-81e8-69a5fc097cba",
   "metadata": {},
   "outputs": [],
   "source": [
    "# Load Data\n",
    "jobs = pd.read_csv('../data/merged/merged_data_jobs.csv')"
   ]
  },
  {
   "cell_type": "markdown",
   "id": "2fbd1000-7e46-44a0-87cd-52b9f15c700c",
   "metadata": {},
   "source": [
    "The filter Widgets for user to select the filters on the visual graphs and charts!"
   ]
  },
  {
   "cell_type": "code",
   "execution_count": 33,
   "id": "c78511a3-9cda-4009-945f-c0c2c2db86a6",
   "metadata": {},
   "outputs": [],
   "source": [
    "# Filter Widgets\n",
    "\n",
    "top_n_input = widgets.IntText(\n",
    "    value=10,\n",
    "    description='Top N:',\n",
    "    layout=widgets.Layout(width='30%')\n",
    ")\n",
    "\n",
    "industry_dd = widgets.Dropdown(\n",
    "    options=['All'] + sorted(jobs['Industry'].unique()),\n",
    "    description='Industry:',\n",
    "    layout=widgets.Layout(width='40%')\n",
    ")\n",
    "\n",
    "company_dd = widgets.Dropdown(\n",
    "    options=['All'] + sorted(jobs['Company Name'].unique()),\n",
    "    description='Company:',\n",
    "    layout=widgets.Layout(width='40%')\n",
    ")\n",
    "\n",
    "\n",
    "country_dd = widgets.Dropdown(\n",
    "    options= ['All'] + sorted(jobs['Country'].dropna().astype(str).unique()),\n",
    "    description='Country:',\n",
    "    layout=widgets.Layout(width='40%')\n",
    ")\n",
    "\n",
    "state_dd = widgets.Dropdown(\n",
    "    options=['All'] + sorted(jobs['State'].dropna().astype(str).unique()),\n",
    "    description='State:',\n",
    "    layout=widgets.Layout(width='40%')\n",
    ")\n",
    "\n",
    "city_dd = widgets.Dropdown(\n",
    "    options=['All'] + sorted(jobs['City'].dropna().astype(str).unique()),\n",
    "    description='City:',\n",
    "    layout=widgets.Layout(width='40%')\n",
    ")\n",
    "\n",
    "exp_cat_dd = widgets.Dropdown(\n",
    "    options=['All'] + sorted(jobs['Experience Category'].unique()),\n",
    "    description='Exp. Level:',\n",
    "    layout=widgets.Layout(width='40%')\n",
    ")\n",
    "\n",
    "experience_slider = widgets.IntSlider(\n",
    "    value=5,\n",
    "    min=0,\n",
    "    max=20,\n",
    "    step=1,\n",
    "    description='Experience ≤',\n",
    "    layout=widgets.Layout(width='60%')\n",
    ")\n"
   ]
  },
  {
   "cell_type": "markdown",
   "id": "9774c368-8c36-4114-8aed-c82e5b073ba2",
   "metadata": {},
   "source": [
    "The helper functions to plot the graphs of different types"
   ]
  },
  {
   "cell_type": "code",
   "execution_count": 35,
   "id": "6db0b9e4-7b01-4023-b3d4-722bff05dfc8",
   "metadata": {},
   "outputs": [],
   "source": [
    "def plot_pie(data, labels_col, values_col, title='', colors='pastel', figsize=(7, 7)):\n",
    "    \"\"\"\n",
    "    Generic pie chart plotter.\n",
    "\n",
    "    Parameters:\n",
    "    - data: DataFrame with the data to plot.\n",
    "    - labels_col: Column name for pie slice labels.\n",
    "    - values_col: Column name for values.\n",
    "    - title: Chart title.\n",
    "    - colors: Color palette.\n",
    "    - figsize: Tuple for figure size.\n",
    "    \"\"\"\n",
    "    plt.figure(figsize=figsize)\n",
    "    plt.pie(\n",
    "        data[values_col],\n",
    "        labels=data[labels_col],\n",
    "        autopct='%1.1f%%',\n",
    "        colors=sns.color_palette(colors),\n",
    "        startangle=140\n",
    "    )\n",
    "    plt.title(title)\n",
    "    plt.tight_layout()\n",
    "    plt.show()\n",
    "\n",
    "def plot_bar(data, x, y, title='', xlabel='', ylabel='', rotation=90, palette='pastel', figsize=(10, 5)):\n",
    "    \"\"\"\n",
    "    Generic bar chart plotter.\n",
    "\n",
    "    Parameters:\n",
    "    - data: DataFrame with the data to plot.\n",
    "    - x: Column name for x-axis.\n",
    "    - y: Column name for y-axis.\n",
    "    - title: Chart title.\n",
    "    - xlabel: Label for x-axis.\n",
    "    - ylabel: Label for y-axis.\n",
    "    - rotation: Rotation angle for x-axis labels.\n",
    "    - palette: Seaborn color palette.\n",
    "    - figsize: Tuple for figure size.\n",
    "    \"\"\"\n",
    "    plt.figure(figsize=figsize)\n",
    "    sns.barplot(data=data, x=x, y=y, palette=palette)\n",
    "    plt.title(title)\n",
    "    plt.xlabel(xlabel or x)\n",
    "    plt.ylabel(ylabel or y)\n",
    "    plt.xticks(rotation=rotation)\n",
    "    plt.tight_layout()\n",
    "    plt.show()\n"
   ]
  },
  {
   "cell_type": "markdown",
   "id": "cc2a44e4-98c0-4201-9ffc-958febdb9562",
   "metadata": {},
   "source": [
    "The methods to build the different visualizations"
   ]
  },
  {
   "cell_type": "code",
   "execution_count": 47,
   "id": "086c1b74-96eb-4c1e-adc0-a0e637c92894",
   "metadata": {},
   "outputs": [],
   "source": [
    "# 1. Number of Jobs vs Industry\n",
    "def jobs_vs_industry(jobs, top_n=10):\n",
    "    industry_counts = jobs['Industry'].value_counts().head(top_n).reset_index()\n",
    "    industry_counts.columns = ['Industry', 'Job Count']\n",
    "    plot_bar(industry_counts, 'Job Count', 'Industry', 'Top {} Industries by Number of jobs'.format(top_n), 'Number of Jobs', 'Industry')\n",
    "\n",
    "# 2. Number of Jobs vs Country\n",
    "def jobs_vs_country(jobs, top_n=10):\n",
    "    country_counts = jobs['Country'].value_counts().head(top_n).reset_index()\n",
    "    country_counts.columns = ['Country', 'Job Count']\n",
    "    plot_bar(country_counts, 'Country', 'Job Count', 'Top Countries by Number of jobs', 'Country', 'Number of Jobs')\n",
    "\n",
    "# 3. Number of Jobs vs States (with divisions of cities)\n",
    "def plot_stacked_city_state(df, top_n=10):\n",
    "    # Top N states with highest job counts\n",
    "    top_states = df['State'].value_counts().nlargest(top_n).index\n",
    "    df_filtered = df[df['State'].isin(top_states)]\n",
    "\n",
    "    # Group and pivot the data\n",
    "    grouped = (\n",
    "        df_filtered.groupby(['State', 'City'])\n",
    "        .size()\n",
    "        .reset_index(name='Job Count')\n",
    "    )\n",
    "\n",
    "    pivot_table = grouped.pivot(index='State', columns='City', values='Job Count').fillna(0)\n",
    "\n",
    "    # Plot\n",
    "    pivot_table.plot(kind='bar', stacked=True, figsize=(14, 7), colormap='tab20')\n",
    "    plt.title(\"Stacked Bar Chart: City-wise Job Count within Top {} States\".format(top_n))\n",
    "    plt.xlabel(\"State\")\n",
    "    plt.ylabel(\"Number of Jobs\")\n",
    "    plt.legend(title='City', bbox_to_anchor=(1.05, 1), loc='upper left')\n",
    "    plt.tight_layout()\n",
    "    plt.show()\n",
    "\n",
    "def jobs_vs_city(jobs, top_n_states=5, top_n_cities=10):\n",
    "    \"\"\"\n",
    "    Uses plot_bar to show number of jobs for top N cities in top N states.\n",
    "    \"\"\"\n",
    "    # Filter top states\n",
    "    top_states = jobs['State'].value_counts().nlargest(top_n_states).index\n",
    "    df_filtered = jobs[jobs['State'].isin(top_states)]\n",
    "\n",
    "    # Group by State and City\n",
    "    grouped = df_filtered.groupby(['State', 'City']).size().reset_index(name='Job Count')\n",
    "\n",
    "    # Optional: Filter to top N cities across those states\n",
    "    top_cities = grouped.groupby('City')['Job Count'].sum().nlargest(top_n_cities).index\n",
    "    grouped = grouped[grouped['City'].isin(top_cities)]\n",
    "\n",
    "    # Create a combined label for clarity (e.g., \"City (State)\")\n",
    "    grouped['City_State'] = grouped['City'] + \" (\" + grouped['State'] + \")\"\n",
    "\n",
    "    # Sort by job count for visual clarity\n",
    "    grouped = grouped.sort_values(by='Job Count', ascending=False)\n",
    "\n",
    "    # Use helper function\n",
    "    plot_bar(\n",
    "        data=grouped,\n",
    "        x='City_State',\n",
    "        y='Job Count',\n",
    "        title=f\"Top {top_n_cities} Cities in Top {top_n_states} States by Job Count\",\n",
    "        xlabel=\"City (State)\",\n",
    "        ylabel=\"Number of Jobs\",\n",
    "        rotation=90\n",
    "    )\n",
    "\n",
    "def show_industy_percentage(df, selected_industry, industry_col='Industry'):\n",
    "    total_count = df.shape[0]\n",
    "    selected_count = df[df[industry_col] == selected_industry].shape[0]\n",
    "    other_count = total_count - selected_count\n",
    "\n",
    "    colors = ['#ff9999', '#66b3ff']\n",
    "    pie_data = pd.DataFrame({\n",
    "        'Category': [selected_industry, 'Others'],\n",
    "        'Count': [selected_count, other_count]\n",
    "    })\n",
    "\n",
    "    plot_pie(\n",
    "        data=pie_data,\n",
    "        labels_col='Category',\n",
    "        values_col='Count',\n",
    "        title=f\"Share of '{selected_industry}' Industry\",\n",
    "        colors = colors\n",
    "    )\n"
   ]
  },
  {
   "cell_type": "markdown",
   "id": "5e39b966-d6f9-4690-9982-8b3e997ea4d3",
   "metadata": {},
   "source": [
    "The method which calls the different methods based on the user inputs"
   ]
  },
  {
   "cell_type": "code",
   "execution_count": 51,
   "id": "615a7730-7b4e-4be4-bd64-b08eec9ba124",
   "metadata": {},
   "outputs": [],
   "source": [
    "def plot_analytics(top_n, country, state, city, industry, exp_category, exp):\n",
    "    df = jobs.copy()\n",
    "\n",
    "    if country != 'All':\n",
    "        df = df[df['Country'] == country]\n",
    "    if state != 'All':\n",
    "        df = df[df['State'] == state]\n",
    "    if city != 'All':\n",
    "        df = df[df['City'] == city]\n",
    "    if industry != 'All':\n",
    "        df = df[df['Industry'] == industry]\n",
    "    if exp_category != 'All':\n",
    "        df = df[df['Experience Category'] == exp_category & df['Experience (In Years)'] >= exp]\n",
    "\n",
    "    if df.empty:\n",
    "        print(\"No data available for selected filters.\")\n",
    "        return\n",
    "\n",
    "    #print(\"Jobs vs Industry\")\n",
    "    if industry == 'All':\n",
    "        jobs_vs_industry(df, top_n)\n",
    "    else:\n",
    "        # We can show the % share of selected industry in a pie chart\n",
    "        show_industy_percentage(jobs, industry)\n",
    "    #print(\"Jobs vs City\")\n",
    "    jobs_vs_city(df) #city\n",
    "    #print(\"Jobs vs Country\")\n",
    "    jobs_vs_country(df, top_n) #country\n",
    "    #print(\"Jobs vs States\")\n",
    "    plot_stacked_city_state(df) #state\n",
    "\n",
    "\n",
    "   # plt.tight_layout()\n",
    "   # plt.show()"
   ]
  },
  {
   "cell_type": "markdown",
   "id": "697b721c-44ff-481d-8f3b-1936bd7ce030",
   "metadata": {},
   "source": [
    "The output or main cell to execute and display the visualizations!"
   ]
  },
  {
   "cell_type": "code",
   "execution_count": 53,
   "id": "4ffef343-a8bd-45d1-a196-41d4ee048b7f",
   "metadata": {},
   "outputs": [
    {
     "data": {
      "application/vnd.jupyter.widget-view+json": {
       "model_id": "e6c1b9bd5ea34b01936229a3e6e2ebcd",
       "version_major": 2,
       "version_minor": 0
      },
      "text/plain": [
       "VBox(children=(HBox(children=(IntText(value=15, description='Top N:', layout=Layout(width='30%')),)), HBox(chi…"
      ]
     },
     "metadata": {},
     "output_type": "display_data"
    },
    {
     "data": {
      "application/vnd.jupyter.widget-view+json": {
       "model_id": "31ec7ff610dc4f40bddcd7cb42a2b4dd",
       "version_major": 2,
       "version_minor": 0
      },
      "text/plain": [
       "Output()"
      ]
     },
     "metadata": {},
     "output_type": "display_data"
    }
   ],
   "source": [
    "# INTERACTIVE OUTPUT ------------------\n",
    "ui = widgets.VBox([\n",
    "    widgets.HBox([top_n_input]),\n",
    "    widgets.HBox([industry_dd, company_dd]),\n",
    "    widgets.HBox([city_dd, country_dd, state_dd]),\n",
    "    widgets.HBox([exp_cat_dd, experience_slider])\n",
    "])\n",
    "\n",
    "out = widgets.interactive_output(plot_analytics, {\n",
    "    'top_n': top_n_input,\n",
    "    'country': country_dd,\n",
    "    'state': state_dd,\n",
    "    'city': city_dd,\n",
    "    'industry': industry_dd,\n",
    "    'exp_category': exp_cat_dd,\n",
    "    'exp': experience_slider\n",
    "})\n",
    "\n",
    "display(ui, out)"
   ]
  },
  {
   "cell_type": "code",
   "execution_count": null,
   "id": "995fb7d5-56d6-4725-ba02-fcfa49fcc80c",
   "metadata": {},
   "outputs": [],
   "source": []
  }
 ],
 "metadata": {
  "kernelspec": {
   "display_name": "Python 3 (ipykernel)",
   "language": "python",
   "name": "python3"
  },
  "language_info": {
   "codemirror_mode": {
    "name": "ipython",
    "version": 3
   },
   "file_extension": ".py",
   "mimetype": "text/x-python",
   "name": "python",
   "nbconvert_exporter": "python",
   "pygments_lexer": "ipython3",
   "version": "3.12.0"
  }
 },
 "nbformat": 4,
 "nbformat_minor": 5
}
